{
 "cells": [
  {
   "cell_type": "code",
   "execution_count": 6,
   "id": "609cff70-732e-42fd-8614-74330153548d",
   "metadata": {},
   "outputs": [
    {
     "name": "stdout",
     "output_type": "stream",
     "text": [
      "Jedi Chou study JavaScript Algorithms with Jupyter Lab\n"
     ]
    }
   ],
   "source": [
    "console.log(\"Jedi Chou study JavaScript Algorithms with Jupyter Lab\");"
   ]
  },
  {
   "cell_type": "markdown",
   "id": "0ae53bd8-21a1-4e81-826c-78ff2fc38f59",
   "metadata": {},
   "source": [
    "<br>\n",
    "\n",
    "## ES6 Features\n",
    "\n",
    "Reference: <https://www.w3schools.com/Js/js_es6.asp>\n",
    "\n",
    "### 1. JavaScript let\n",
    "\n",
    "The let keyword allows you to declare a variable with block scope."
   ]
  },
  {
   "cell_type": "code",
   "execution_count": 7,
   "id": "f20d5344-ee27-4df8-a76a-e067be87a824",
   "metadata": {},
   "outputs": [
    {
     "name": "stdout",
     "output_type": "stream",
     "text": [
      "2\n"
     ]
    }
   ],
   "source": [
    "let x = 2;\n",
    "console.log(x);"
   ]
  },
  {
   "cell_type": "markdown",
   "id": "17359520-0545-41f0-9dc6-3a6378331368",
   "metadata": {},
   "source": [
    "<br>\n",
    "\n",
    "### 2. JavaScript const\n",
    "\n",
    "The `const` keyword allows you to declare a constant (a JavaScript variable with a constant value).\n",
    "\n",
    "Constants are similar to let variables, except that the value cannot be changed."
   ]
  },
  {
   "cell_type": "code",
   "execution_count": 1,
   "id": "f78480d1-4b68-4fa8-8450-507a90595c93",
   "metadata": {},
   "outputs": [
    {
     "name": "stdout",
     "output_type": "stream",
     "text": [
      "3\n"
     ]
    }
   ],
   "source": [
    "const x2 = 3;\n",
    "console.log(x2)"
   ]
  }
 ],
 "metadata": {
  "kernelspec": {
   "display_name": "JavaScript (Node.js)",
   "language": "javascript",
   "name": "javascript"
  },
  "language_info": {
   "file_extension": ".js",
   "mimetype": "application/javascript",
   "name": "javascript",
   "version": "18.17.0"
  }
 },
 "nbformat": 4,
 "nbformat_minor": 5
}
