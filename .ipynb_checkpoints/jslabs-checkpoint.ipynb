{
 "cells": [
  {
   "cell_type": "code",
   "execution_count": 1,
   "id": "609cff70-732e-42fd-8614-74330153548d",
   "metadata": {},
   "outputs": [
    {
     "name": "stdout",
     "output_type": "stream",
     "text": [
      "Jedi Chou study JavaScript Algorithms with Jupyter Lab\n"
     ]
    }
   ],
   "source": [
    "console.log(\"Jedi Chou study JavaScript Algorithms with Jupyter Lab\");"
   ]
  }
 ],
 "metadata": {
  "kernelspec": {
   "display_name": "JavaScript (Node.js)",
   "language": "javascript",
   "name": "javascript"
  },
  "language_info": {
   "file_extension": ".js",
   "mimetype": "application/javascript",
   "name": "javascript",
   "version": "18.17.0"
  }
 },
 "nbformat": 4,
 "nbformat_minor": 5
}
