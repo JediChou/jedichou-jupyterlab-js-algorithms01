{
 "cells": [
  {
   "cell_type": "code",
   "execution_count": 1,
   "id": "609cff70-732e-42fd-8614-74330153548d",
   "metadata": {},
   "outputs": [
    {
     "name": "stdout",
     "output_type": "stream",
     "text": [
      "Jedi Chou study JavaScript Algorithms with Jupyter Lab\n"
     ]
    }
   ],
   "source": [
    "console.log(\"Jedi Chou study JavaScript Algorithms with Jupyter Lab\");"
   ]
  },
  {
   "cell_type": "markdown",
   "id": "0ae53bd8-21a1-4e81-826c-78ff2fc38f59",
   "metadata": {},
   "source": [
    "<br>\n",
    "\n",
    "## ES6 Features\n",
    "\n",
    "Reference: <https://www.w3schools.com/Js/js_es6.asp>\n",
    "\n",
    "### 1. JavaScript let\n",
    "\n",
    "The let keyword allows you to declare a variable with block scope."
   ]
  },
  {
   "cell_type": "code",
   "execution_count": 2,
   "id": "f20d5344-ee27-4df8-a76a-e067be87a824",
   "metadata": {},
   "outputs": [
    {
     "name": "stdout",
     "output_type": "stream",
     "text": [
      "2\n"
     ]
    }
   ],
   "source": [
    "let x = 2;\n",
    "console.log(x);"
   ]
  },
  {
   "cell_type": "markdown",
   "id": "17359520-0545-41f0-9dc6-3a6378331368",
   "metadata": {},
   "source": [
    "<br>\n",
    "\n",
    "### 2. JavaScript const\n",
    "\n",
    "The `const` keyword allows you to declare a constant (a JavaScript variable with a constant value).\n",
    "\n",
    "Constants are similar to let variables, except that the value cannot be changed."
   ]
  },
  {
   "cell_type": "code",
   "execution_count": 3,
   "id": "f78480d1-4b68-4fa8-8450-507a90595c93",
   "metadata": {},
   "outputs": [
    {
     "name": "stdout",
     "output_type": "stream",
     "text": [
      "3\n"
     ]
    }
   ],
   "source": [
    "const x2 = 3;\n",
    "console.log(x2)"
   ]
  },
  {
   "cell_type": "markdown",
   "id": "c6b8f2e6-ad24-4a75-88dc-dede510fc630",
   "metadata": {},
   "source": [
    "<br>\n",
    "\n",
    "## 3. Arrow Functions\n",
    "\n",
    "Arrow functions allows a short syntax for writing function expressions.\n",
    "\n",
    "You don't need the `function` keyword, the `return` keyword, and the curly brackets."
   ]
  },
  {
   "cell_type": "code",
   "execution_count": 5,
   "id": "06265f77-6bb5-43aa-9579-4ea655c9d610",
   "metadata": {},
   "outputs": [
    {
     "name": "stdout",
     "output_type": "stream",
     "text": [
      "6\n"
     ]
    }
   ],
   "source": [
    "// ES6\n",
    "const arrow3 = (x, y) => x * y;\n",
    "console.log(arrow3(2,3));"
   ]
  },
  {
   "cell_type": "markdown",
   "id": "a7a5acd1-cf3c-4dbf-ba20-285083496ad6",
   "metadata": {},
   "source": [
    "<br>\n",
    "\n",
    "## 4. The Spread (...) Operator\n",
    "\n",
    "The `...` operator expands an iterable (like an array) into more elements:"
   ]
  },
  {
   "cell_type": "code",
   "execution_count": 6,
   "id": "4ee97535-c685-425c-ae82-a56430e66d83",
   "metadata": {},
   "outputs": [
    {
     "name": "stdout",
     "output_type": "stream",
     "text": [
      "[\n",
      "  'Jan', 'Feb', 'Mar',\n",
      "  'Apr', 'May', 'Jun',\n",
      "  'Jul', 'Aug', 'Sep',\n",
      "  'Oct', 'Nov', 'May'\n",
      "]\n"
     ]
    }
   ],
   "source": [
    "const q1 = [\"Jan\", \"Feb\", \"Mar\"];\n",
    "const q2 = [\"Apr\", \"May\", \"Jun\"];\n",
    "const q3 = [\"Jul\", \"Aug\", \"Sep\"];\n",
    "const q4 = [\"Oct\", \"Nov\", \"May\"];\n",
    "const year = [...q1, ...q2, ...q3, ...q4];\n",
    "console.log(year);"
   ]
  }
 ],
 "metadata": {
  "kernelspec": {
   "display_name": "JavaScript (Node.js)",
   "language": "javascript",
   "name": "javascript"
  },
  "language_info": {
   "file_extension": ".js",
   "mimetype": "application/javascript",
   "name": "javascript",
   "version": "18.16.1"
  }
 },
 "nbformat": 4,
 "nbformat_minor": 5
}
