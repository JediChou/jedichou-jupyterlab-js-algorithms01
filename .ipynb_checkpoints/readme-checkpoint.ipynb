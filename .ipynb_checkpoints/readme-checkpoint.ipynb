{
 "cells": [
  {
   "cell_type": "markdown",
   "id": "81ba92ad-272d-4a96-870d-a2b379e8176e",
   "metadata": {},
   "source": [
    "# Install nodejs and execute javascript in Jupyter Notebook Anaconda\n",
    "\n",
    "[Reference](https://pythonbaba.com/install-nodejs-and-execute-javascript-in-jupyter-notebook-anaconda/#Step_5_Install_ijavacript)\n",
    "\n",
    "By PythonBaba -November 22, 2020"
   ]
  },
  {
   "cell_type": "markdown",
   "id": "93491ff7-50a4-4bcc-abd1-fdad3ea451e6",
   "metadata": {},
   "source": [
    "## General steps\n",
    "\n",
    "1. Install Visual Studio\n",
    "2. Install Anaconda\n",
    "3. Installing Nodejs \n",
    "4. Install or Update the latest version of npm \n",
    "5. Install ijavacript\n",
    "6. Run ijsinstall on the command prompt. \n",
    "7. Run Javascript demo code in Jupyter Notebook"
   ]
  },
  {
   "cell_type": "markdown",
   "id": "c3ad788f-7520-4f37-84e6-e8e94aa62cdd",
   "metadata": {},
   "source": [
    "## Key steps\n",
    "\n",
    "**Install ijavacript**\n",
    "\n",
    "```bat\n",
    "npm install --no-fund ijavascript -g\n",
    "```\n",
    "\n",
    "**Run ijsinstall on the command prompt**\n",
    "\n",
    "```bat\n",
    "ijsinstall\n",
    "```\n",
    "\n",
    "**Run Javascript demo code in Jupyter Notebook**\n",
    "\n",
    "```bat\n",
    "mkdir demo-directory\n",
    "cd demo-directory\n",
    "jupyter lab\n",
    "```"
   ]
  }
 ],
 "metadata": {
  "kernelspec": {
   "display_name": "JavaScript (Node.js)",
   "language": "javascript",
   "name": "javascript"
  },
  "language_info": {
   "file_extension": ".js",
   "mimetype": "application/javascript",
   "name": "javascript",
   "version": "18.17.0"
  }
 },
 "nbformat": 4,
 "nbformat_minor": 5
}
