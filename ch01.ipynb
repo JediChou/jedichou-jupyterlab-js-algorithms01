{
 "cells": [
  {
   "cell_type": "markdown",
   "id": "50ea5d9d-9e84-410f-8a44-b61d0547cbd6",
   "metadata": {},
   "source": [
    "# 第 1 章 JavaScript的编程环境和模型\n",
    "\n",
    "本章描述了 JavaScript 的编程环境和基本的编程模块，本书的后续章节将使用这些知识定\n",
    "义各种数据结构和实现各种算法。"
   ]
  },
  {
   "cell_type": "markdown",
   "id": "0466d822-05e0-43ea-aff1-5f29af7e8709",
   "metadata": {},
   "source": [
    "<br>\n",
    "\n",
    "## 1.1 JavaScript环境\n",
    "\n",
    "JavaScript 历来是一种仅在浏览器里运行的程序语言。然而在过去的几年中，这种情况发\n",
    "生了变化，JavaScript 发展为可以作为桌面程序执行，或者在服务器上执行。本书就使用\n",
    "这样一种类似的环境：JavaScript shell，这是由 Mozilla 提供的综合 JavaScript 编程环境\n",
    "SpiderMonkey 中的一部分。\n",
    "\n",
    "打开 SpiderMonkey 的每日构建页面（<https://archive.mozilla.org/pub/firefox/nightly/latest-mozilla-central/>），滚动至页面底部，根据你的计算机操作系统，下载相应的 JavaScript shell。\n",
    "\n",
    "下载完成后，有两种使用 JavaScript shell 的方式。可以选择在交互模式下使用 shell，也可\n",
    "以将 JavaScript 代码保存在一个文件中，使用 shell 进行解释执行。在命令提示符下输入\n",
    "js，进入 shell 的交互模式，命令行里将会出现 js> 提示符，这时就可以输入 JavaScript 表\n",
    "达式和语句了。\n",
    "\n",
    "下面演示了和 JavaScript shell 进行交互的典型场景：\n",
    "\n",
    "```shell\n",
    "bash\n",
    "js> 1\n",
    "1\n",
    "js> 1+2\n",
    "3\n",
    "js> var num = 1;\n",
    "js> num*124\n",
    "124\n",
    "js> for (var i = 1; i < 6; ++i) {\n",
    "print(i);\n",
    "}\n",
    "1\n",
    "2\n",
    "3\n",
    "4\n",
    "5\n",
    "js>\n",
    "```\n",
    "\n",
    "你可以输入算术表达式，JavaScript shell 立即会对其进行求值。也可以输入任意合法的\n",
    "JavaScript 语句，JavaScript shell 也会马上求值。如果你想探索 JavaScript 语句进而了解它\n",
    "们的工作原理，那么这种交互式 shell 是很棒的选择。完成后，输入 `quit()` 语句退出 shell。\n",
    "\n",
    "另外一种使用 JavaScript shell 的方式是用它解释执行一段完整的 JavaScript 程序，这也是\n",
    "我们在本书剩余部分使用 shell 的方式。\n",
    "\n",
    "使用 JavaScript shell 解释运行程序，首先需要创建一个包含完整 JavaScript 程序的文件。\n",
    "可以使用任何文本编辑器，但是要确保将文件保存为普通文本文件。唯一的要求是文件名\n",
    "必须以 .js 作为后缀。JavaScript shell 看到这种后缀才会知道文件里是一段 JavaScript 程序。\n",
    "\n",
    "文件保存完成后，在命令行里输入 js 和文件名，就可以解释执行该 JavaScript 程序了。比\n",
    "如，假设将前面提到的 for 循环代码片段保存成一个 loop.js 文件，在命令行里输入：\n",
    "\n",
    "```bat\n",
    "c:\\js>js loop.js\n",
    "```\n",
    "\n",
    "则会产生如下输出：\n",
    "\n",
    "```output\n",
    "1\n",
    "2\n",
    "3\n",
    "4\n",
    "5\n",
    "```\n",
    "\n",
    "程序执行完成后，自动返回命令行控制台。"
   ]
  },
  {
   "cell_type": "markdown",
   "id": "2f2c0bbf-1e80-48bc-ab45-ce1d80290556",
   "metadata": {},
   "source": [
    "<br>\n",
    "\n",
    "## 1.2 JavaScript编程实践\n",
    "\n",
    "本节将讨论如何使用 JavaScript。我们知道，每个程序员编写程序的风格和惯例都不尽相\n",
    "同，因此在本书一开始，我想先说说我自己的编程风格和惯例，这样读者在后续章节中碰\n",
    "到更复杂一点的程序时，就不会感到疑惑了。本书并非一部 JavaScript 新手教程，而是语\n",
    "言基本结构使用方法指南。"
   ]
  },
  {
   "cell_type": "markdown",
   "id": "eba79db6-d861-462a-9adc-e5f938fe4bd0",
   "metadata": {},
   "source": [
    "<br>\n",
    "\n",
    "### 1.2.1 声明和初始化变量\n",
    "\n",
    "JavaScript 中的变量默认是全局变量，严格地说，甚至不需要在使用前进行声明。如果对一\n",
    "个事先未予声明的 JavaScript 变量进行初始化，该变量就成了一个全局变量。但本书遵循\n",
    "C++ 和 Java 等编译型语言的习惯，在使用变量前先对其进行声明。这样做的好处是，声明\n",
    "的变量都是局部变量。本章稍后部分将详细讨论变量的作用域。\n",
    "\n",
    "在 JavaScript 中声明变量，需使用关键字 var，后跟变量名，后面还可以跟一个赋值表达\n",
    "式。下面是一些例子：\n",
    "\n",
    "```javascript\n",
    "var number;\n",
    "var name;\n",
    "var rate = 1.2;\n",
    "var greeting = \"Hello, world!\";\n",
    "var flag = false;\n",
    "```"
   ]
  },
  {
   "cell_type": "markdown",
   "id": "857ea986-215c-498a-b4b2-391659454baf",
   "metadata": {},
   "source": [
    "<br>\n",
    "\n",
    "### 1.2.2 JavaScript中的算术运算和数学库函数\n",
    "\n",
    "JavaScript 使用标准的算术运算符：\n",
    "\n",
    "* `+`（加）\n",
    "* `-` 减）\n",
    "* `*`（乘）\n",
    "* `/`（除）\n",
    "* `%` 取余）\n",
    "\n",
    "JavaScript 同时拥有一个数学库，用来完成一些高级运算，比如平方根、绝对值和三角函\n",
    "数。算术运算符遵循标准的运算顺序，可以用括号来改变运算顺序。\n",
    "\n",
    "例 1-1 演示了使用 JavaScript 执行一些算术运算的例子，同时也用到了一些数学库中的\n",
    "函数。"
   ]
  },
  {
   "cell_type": "code",
   "execution_count": 19,
   "id": "0e5b422b-fdaa-40ad-b741-8c1bce32a664",
   "metadata": {},
   "outputs": [
    {
     "name": "stdout",
     "output_type": "stream",
     "text": [
      "4.1\n",
      "3.3000000000000003\n",
      "7.789999999999999\n",
      "3\n",
      "0.3666666666666667\n"
     ]
    }
   ],
   "source": [
    "// 例 1-1 JavaScript 中的算术运算和数学函数\n",
    "var x = 3;\n",
    "var y = 1.1;\n",
    "console.log(x + y);\n",
    "console.log(x * y);\n",
    "console.log((x+y)*(x-y));\n",
    "var z = 9;\n",
    "console.log(Math.sqrt(z));\n",
    "console.log(Math.abs(y/x));"
   ]
  },
  {
   "cell_type": "markdown",
   "id": "55816b0b-04e6-4473-b95c-cdbfc89f22aa",
   "metadata": {},
   "source": [
    "<br>\n",
    "\n",
    "如果计算精度不必像上面那样精确，可以将数字格式化为固定精度："
   ]
  },
  {
   "cell_type": "code",
   "execution_count": 20,
   "id": "13263afc-ac98-4531-b1c9-d4ea7fe9cb9e",
   "metadata": {},
   "outputs": [
    {
     "name": "stdout",
     "output_type": "stream",
     "text": [
      "3.30\n"
     ]
    }
   ],
   "source": [
    "var x = 3;\n",
    "var y = 1.1;\n",
    "var z = x * y;\n",
    "console.log(z.toFixed(2)); // 显示 3.30"
   ]
  },
  {
   "cell_type": "markdown",
   "id": "7a89f3c5-4853-4bc1-b15e-440463d60679",
   "metadata": {},
   "source": [
    "<br>\n",
    "\n",
    "### 1.2.3 判断结构\n",
    "\n",
    "根据布尔表达式的值，判断结构让程序可以选择执行哪些程序语句。本书用到的两种判断\n",
    "结构为 if 语句和 switch 语句。\n",
    "\n",
    "if 语句有如下三种形式：\n",
    "\n",
    "* 简单的 `if` 语句；\n",
    "* `if-else` 语句；\n",
    "* `if-else` if 语句。\n",
    "\n",
    "例 1-2 演示了如何编写简单的 if 语句。"
   ]
  },
  {
   "cell_type": "code",
   "execution_count": 21,
   "id": "64206a46-9d08-4b9d-b6fb-9dbd5339811c",
   "metadata": {},
   "outputs": [
    {
     "data": {
      "text/plain": [
       "6"
      ]
     },
     "execution_count": 21,
     "metadata": {},
     "output_type": "execute_result"
    }
   ],
   "source": [
    "// 例 1-2 简单的 if 语句\n",
    "var mid = 25;\n",
    "var high = 50;\n",
    "var low = 1;\n",
    "var current = 13;\n",
    "var found = -1;\n",
    "if (current < mid) {\n",
    "    mid = (current-low) / 2;\n",
    "}"
   ]
  },
  {
   "cell_type": "markdown",
   "id": "f7134477-3009-4613-92f3-b8cfe87fe155",
   "metadata": {},
   "source": [
    "<br>\n",
    "\n",
    "例 1-3 演示了 if-else 语句。"
   ]
  },
  {
   "cell_type": "code",
   "execution_count": 22,
   "id": "f6d60be4-7f7c-4fdd-bfdb-a63d50cfaa97",
   "metadata": {},
   "outputs": [
    {
     "data": {
      "text/plain": [
       "6"
      ]
     },
     "execution_count": 22,
     "metadata": {},
     "output_type": "execute_result"
    }
   ],
   "source": [
    "// 例 1-3 if-else 语句\n",
    "var mid = 25;\n",
    "var high = 50;\n",
    "var low = 1;\n",
    "var current = 13;\n",
    "var found = -1;\n",
    "if (current < mid) {\n",
    "    mid = (current-low) / 2;\n",
    "}\n",
    "else {\n",
    "    mid = (current+high) / 2;\n",
    "}"
   ]
  },
  {
   "cell_type": "markdown",
   "id": "1df46b32-23b4-4c01-b002-af8e546f5363",
   "metadata": {},
   "source": [
    "<br>\n",
    "\n",
    "例 1-4 演示了 if-else if 语句。"
   ]
  },
  {
   "cell_type": "code",
   "execution_count": 23,
   "id": "03a3bf3e-5e7a-4d6d-994f-755c8276786d",
   "metadata": {},
   "outputs": [
    {
     "data": {
      "text/plain": [
       "6"
      ]
     },
     "execution_count": 23,
     "metadata": {},
     "output_type": "execute_result"
    }
   ],
   "source": [
    "// 例 1-4 if-else if 语句\n",
    "var mid = 25;\n",
    "var high = 50;\n",
    "var low = 1;\n",
    "var current = 13;\n",
    "var found = -1;\n",
    "if (current < mid) {\n",
    "    mid = (current-low) / 2;\n",
    "}\n",
    "else if (current > mid) {\n",
    "    mid = (current+high) / 2;\n",
    "}\n",
    "else {\n",
    "    found = current;\n",
    "}"
   ]
  },
  {
   "cell_type": "markdown",
   "id": "3dc9ea73-3913-4407-bdcc-611fee952228",
   "metadata": {},
   "source": [
    "<br>\n",
    "\n",
    "本书用到的另外一个判断结构是 switch 语句。在有多个简单的选择时，使用该语句的代码\n",
    "结构更加清晰。例 1-5 演示了 switch 语句的工作原理。"
   ]
  },
  {
   "cell_type": "code",
   "execution_count": 24,
   "id": "fc07c7fe-349f-460d-a979-99520aec5f88",
   "metadata": {},
   "outputs": [
    {
     "name": "stdout",
     "output_type": "stream",
     "text": [
      "Enter a month number: \n"
     ]
    },
    {
     "data": {
      "text/plain": [
       "'February'"
      ]
     },
     "execution_count": 24,
     "metadata": {},
     "output_type": "execute_result"
    }
   ],
   "source": [
    "// 例 1-5 switch 语句\n",
    "console.log(\"Enter a month number: \");\n",
    "var monthNum = '2';\n",
    "var monthName;\n",
    "switch (monthNum) {\n",
    "    case \"1\":\n",
    "        monthName = \"January\";\n",
    "        break;\n",
    "    case \"2\":\n",
    "        monthName = \"February\";\n",
    "        break;\n",
    "    case \"3\":\n",
    "        monthName = \"March\";\n",
    "        break;\n",
    "    case \"4\":\n",
    "        monthName = \"April\";\n",
    "        break;\n",
    "    case \"5\":\n",
    "        monthName = \"May\";\n",
    "        break;\n",
    "    case \"6\":\n",
    "        monthName = \"June\";\n",
    "        break;\n",
    "    case \"7\":\n",
    "        monthName = \"July\";\n",
    "        break;\n",
    "    case \"8\":\n",
    "        monthName = \"August\";\n",
    "        break;\n",
    "    case \"9\":\n",
    "        monthName = \"September\";\n",
    "        break;\n",
    "    case \"10\":\n",
    "        monthName = \"October\";\n",
    "        break;\n",
    "    case \"11\":\n",
    "        monthName = \"November\";\n",
    "        break;\n",
    "    case \"12\":\n",
    "        monthName = \"December\";\n",
    "        break;\n",
    "    default:\n",
    "        console.log(\"Bad input\");\n",
    "}"
   ]
  },
  {
   "cell_type": "markdown",
   "id": "413dc84f-a4a6-4b08-a623-c1cf31415294",
   "metadata": {},
   "source": [
    "<br>\n",
    "\n",
    "这是解决该问题最高效的方式吗？不是，但是这个例子充分展示了 `switch` 语句的工作原理。\n",
    "\n",
    "JavaScript 中的 switch 语句和其他编程语言的一个主要区别是：在 JavaScript 中，用来判\n",
    "断的表达式可以是任意类型，而不仅限于整型；而 C++ 和 Java 等一些语言就要求该表达\n",
    "式必须为整型。事实上，如果你留意观察，上面那个例子中代表月份的数字其实是字符串\n",
    "类型。不用将它们转化成整型，就可以直接在 switch 语句中使用。"
   ]
  },
  {
   "cell_type": "markdown",
   "id": "58a5c31f-a6e4-4260-ad6a-ce6031cd9e0f",
   "metadata": {},
   "source": [
    "<br>\n",
    "\n",
    "### 1.2.4 循环结构\n",
    "\n",
    "本书涉及的多数算法，从本质上都具有循环的特性。本书将用到两种循环结构：while 循\n",
    "环和 for 循环。\n",
    "\n",
    "如果希望在条件为真时执行一组语句，就选择 while 循环。例 1-6 展示了 while 循环的工\n",
    "作原理。"
   ]
  },
  {
   "cell_type": "code",
   "execution_count": 25,
   "id": "d59f9c17-ab0a-4f0e-b054-86c1a32bbc4c",
   "metadata": {},
   "outputs": [
    {
     "name": "stdout",
     "output_type": "stream",
     "text": [
      "55\n"
     ]
    }
   ],
   "source": [
    "// 例 1-6 while 循环\n",
    "var number = 1;\n",
    "var sum = 0;\n",
    "while (number < 11) {\n",
    "    sum += number;\n",
    "    ++number;\n",
    "}\n",
    "console.log(sum); // 显示 55"
   ]
  },
  {
   "cell_type": "markdown",
   "id": "5fa8308f-7c99-4764-b2f5-6c92de8885e0",
   "metadata": {},
   "source": [
    "<br>\n",
    "\n",
    "访问数组中的元素时，也经常用到 for 循环，如例 1-8 所示。"
   ]
  },
  {
   "cell_type": "code",
   "execution_count": 26,
   "id": "9299af5b-aadf-44c8-89a0-9eb8a4fbcd19",
   "metadata": {},
   "outputs": [
    {
     "name": "stdout",
     "output_type": "stream",
     "text": [
      "144\n"
     ]
    }
   ],
   "source": [
    "// 例 1-8 使用 for 循环访问数组\n",
    "var numbers = [3, 7, 12, 22, 100];\n",
    "var sum = 0;\n",
    "for (var i = 0; i < numbers.length; ++i) {\n",
    "    sum += numbers[i];\n",
    "}\n",
    "console.log(sum); // 显示 144"
   ]
  },
  {
   "cell_type": "markdown",
   "id": "d98b09f1-89bb-4f69-bce9-c6c025706175",
   "metadata": {},
   "source": [
    "<br>\n",
    "\n",
    "### 1.2.5 函数\n",
    "\n",
    "JavaScript 提供了两种定义函数的方式，一种有返回值，一种没有返回值（这种函数有时\n",
    "也叫做子程或 `void` 函数）。\n",
    "\n",
    "例 1-9 展示了如何定义一个有返回值的函数和如何在 JavaScript 中调用该函数。"
   ]
  },
  {
   "cell_type": "code",
   "execution_count": 27,
   "id": "c0c77573-29c8-434f-abbc-6f65ec6e98ba",
   "metadata": {},
   "outputs": [
    {
     "name": "stdout",
     "output_type": "stream",
     "text": [
      "24\n",
      "120\n",
      "3628800\n"
     ]
    }
   ],
   "source": [
    "// 例 1-9 有返回值的函数\n",
    "function factorial(number) {\n",
    "    var product = 1;\n",
    "    for (var i = number; i >= 1; --i) {\n",
    "        product *= i;\n",
    "    }\n",
    "    return product;\n",
    "}\n",
    "console.log(factorial(4)); // 显示 24\n",
    "console.log(factorial(5)); // 显示 120\n",
    "console.log(factorial(10)); // 显示 3 628 800"
   ]
  },
  {
   "cell_type": "markdown",
   "id": "29927c2b-5ab4-47aa-9dec-3e60c1ac9351",
   "metadata": {},
   "source": [
    "<br>\n",
    "\n",
    "例 1-10 展示了如何定义一个没有返回值的函数，使用该函数并不是为了得到它的返回值，\n",
    "而是为了执行函数中定义的操作。"
   ]
  },
  {
   "cell_type": "code",
   "execution_count": 28,
   "id": "0c3d5af0-c115-4c89-b799-1b015112e71a",
   "metadata": {},
   "outputs": [
    {
     "name": "stdout",
     "output_type": "stream",
     "text": [
      "[ 82, 78, 79, 86, 95 ]\n"
     ]
    }
   ],
   "source": [
    "// 例 1-10 JavaScript 中的子程或者 void 函数\n",
    "function curve(arr, amount) {\n",
    "    for (var i = 0; i < arr.length; ++i) {\n",
    "        arr[i] += amount;\n",
    "    }\n",
    "}\n",
    "var grades = [77, 73, 74, 81, 90];\n",
    "curve(grades, 5);\n",
    "console.log(grades); // 显示 82,78,79,86,95"
   ]
  },
  {
   "cell_type": "markdown",
   "id": "827cc3e4-71a3-46b6-a95c-60a1f7ed2a99",
   "metadata": {},
   "source": [
    "<br>\n",
    "\n",
    "JavaScript 中，函数的参数传递方式都是按值传递，没有按引用传递的参数。但是 JavaScript\n",
    "中有保存引用的对象，比如数组，如例 1-10 所示，它们是按引用传递的。"
   ]
  },
  {
   "cell_type": "markdown",
   "id": "57d66fba-ca23-4548-9dbf-ead6dab81ff2",
   "metadata": {},
   "source": [
    "<br>\n",
    "\n",
    "### 1.2.6 变量作用域\n",
    "\n",
    "变量的作用域是指一个变量在程序中的哪些地方可以访问。JavaScript 中的变量作用域被\n",
    "定义为函数作用域。这是指变量的值在定义该变量的函数内是可见的，并且定义在该函数\n",
    "内的嵌套函数中也可访问该变量。\n",
    "\n",
    "在主程序中，如果在函数外定义一个变量，那么该变量拥有全局作用域，这是指可以在包\n",
    "括函数体内的程序的任何部分访问该变量。下面用一段简短的程序展示全局作用域的工作\n",
    "原理："
   ]
  },
  {
   "cell_type": "code",
   "execution_count": 29,
   "id": "a01bbfc6-9685-4846-8ccb-044a1aee7731",
   "metadata": {},
   "outputs": [
    {
     "name": "stdout",
     "output_type": "stream",
     "text": [
      "global\n",
      "global\n"
     ]
    }
   ],
   "source": [
    "function showScope() {\n",
    "    return scope;\n",
    "}\n",
    "var scope = \"global\";\n",
    "console.log(scope); // 显示 \"global\"\n",
    "console.log(showScope()); // 显示 \"global\""
   ]
  },
  {
   "cell_type": "markdown",
   "id": "187a57ae-c47c-4e7d-8798-744f71d43405",
   "metadata": {},
   "source": [
    "<br>\n",
    "\n",
    "函数 `showScope()` 可以访问变量 scope，因为 scope 是一个全局变量。可以在程序的任意位\n",
    "置定义全局变量，比如在函数定义前或者函数定义后。\n",
    "\n",
    "在 `showScope()` 函数内再定义一个 scope 变量，看看这时发生了什么："
   ]
  },
  {
   "cell_type": "code",
   "execution_count": 30,
   "id": "e1109bd4-dd38-4257-98ac-16b7396dd810",
   "metadata": {},
   "outputs": [
    {
     "name": "stdout",
     "output_type": "stream",
     "text": [
      "global\n",
      "local\n"
     ]
    }
   ],
   "source": [
    "function showScope() {\n",
    "    var scope = \"local\";\n",
    "    return scope;\n",
    "}\n",
    "var scope = \"global\";\n",
    "console.log(scope); // 显示 \"global\"\n",
    "console.log(showScope()); // 显示 \"local\""
   ]
  },
  {
   "cell_type": "markdown",
   "id": "f3bcf92b-5c8b-4233-b3c1-632c0f59c6af",
   "metadata": {},
   "source": [
    "<br>\n",
    "\n",
    "showScope() 函数内定义的变量 scope 拥有局部作用域，而在主程序中定义的变量 scope 是\n",
    "一个全局变量。尽管两个变量名字相同，但它们的作用域不同，在定义它们的地方访问时\n",
    "得到的值也不一样。\n",
    "\n",
    "这些行为都是正常且符合预期的。但是，如果在定义变量时省略了关键字 var，那么一切\n",
    "都变了。JavaScript 允许在定义变量时不使用关键字 var，但这样做的后果是定义的变量自\n",
    "动拥有了全局作用域，即使你是在一个函数内定义该变量，它也是全局变量。\n",
    "\n",
    "例 1-11 展示了定义变量时省略了关键字 var 的后果"
   ]
  },
  {
   "cell_type": "code",
   "execution_count": 31,
   "id": "e10b143e-2287-49cf-9601-2d165f21cfb1",
   "metadata": {},
   "outputs": [
    {
     "name": "stdout",
     "output_type": "stream",
     "text": [
      "global\n",
      "local\n",
      "local\n"
     ]
    }
   ],
   "source": [
    "// 例 1-11 滥用全局变量的恶果\n",
    "function showScope() {\n",
    "    scope = \"local\";\n",
    "    return scope;\n",
    "}\n",
    "scope = \"global\";\n",
    "console.log(scope); // 显示 \"global\"\n",
    "console.log(showScope()); // 显示 \"local\"\n",
    "console.log(scope); // 显示 \"local\""
   ]
  },
  {
   "cell_type": "markdown",
   "id": "b64d20d5-4962-49d3-9e33-427b2f8e743a",
   "metadata": {},
   "source": [
    "<br>\n",
    "\n",
    "在例 1-11 中，由于在 showScope() 函数内定义变量 scope 时省略了关键字 var，所以在将\n",
    "字符串 \"local\" 赋给该变量时，实际上是改变了主程序中 scope 变量的值。因此，在定义\n",
    "变量时，应该总是以关键字 var 开始，以避免发生类似的错误。\n",
    "\n",
    "前面我们提到，JavaScript 拥有的是函数作用域，其含义是 JavaScript 中没有块级作用域，\n",
    "这一点有别于其他很多现代编程语言。使用块级作用域，可以在一段代码块中定义变量，\n",
    "该变量只在块内可见，离开这段代码块就不可见了，在 C++ 或者 Java 的 for 循环语句中，\n",
    "经常可以看到这样的例子：\n",
    "\n",
    "```cpp\n",
    "for (int i = 1; i <= 10; ++i) {\n",
    "    cout << \"Hello, world!\" << endl;\n",
    "}\n",
    "```\n",
    "\n",
    "虽然 JavaScript 没有块级作用域，但在本书中编写 for 循环语句时，我们假设它有：\n",
    "\n",
    "```javascript\n",
    "for (var i = 1; i <= 10; ++i ) {\n",
    "    print(\"Hello, world!\");\n",
    "}\n",
    "```\n",
    "\n",
    "这样做的原因是，我们不希望自己成为你养成坏编程习惯的帮手。"
   ]
  },
  {
   "cell_type": "markdown",
   "id": "9da629bc-53e7-45f2-86ea-39fe47726809",
   "metadata": {},
   "source": [
    "<br>\n",
    "\n",
    "### 1.2.7 递归\n",
    "\n",
    "JavaScript 中允许函数递归调用。前面定义过的 factorial() 函数也可以用递归方式定义：\n",
    "\n",
    "```javascript\n",
    "function factorial(number) {\n",
    "    if (number == 1) {\n",
    "        return number;\n",
    "    }\n",
    "    else {\n",
    "        return number * factorial(number-1);\n",
    "    }\n",
    "}\n",
    "print(factorial(5));\n",
    "```\n",
    "\n",
    "当一个函数被递归调用，在递归没有完成时，函数的计算结果暂时被挂起。为了说明这个\n",
    "过程，这里用一幅图展示了以 5 作为参数，调用 factorial() 函数时函数的执行过程：\n",
    "\n",
    "```output\n",
    "5 * factorial(4)\n",
    "5 * 4 * factorial(3)\n",
    "5 * 4 * 3 * factorial(2)\n",
    "5 * 4 * 3 * 2 * factorial(1)\n",
    "5 * 4 * 3 * 2 * 1\n",
    "5 * 4 * 3 * 2\n",
    "5 * 4 * 6\n",
    "5 * 24\n",
    "120\n",
    "```\n",
    "\n",
    "本书讨论的一些算法采用了递归的方式。对于大多数情况，JavaScript 都有能力处理递归\n",
    "层次较深的递归调用（上面的例子递归层次较浅）；但是保不齐有的算法需要的递归深度\n",
    "超出了 JavaScript 的处理能力，这时我们就需要寻求该算法的一种迭代式解决方案了。任\n",
    "何可以被递归定义的函数，都可以被改写为迭代式的程序，要将这点牢记于心。"
   ]
  },
  {
   "cell_type": "markdown",
   "id": "f53d25c5-7261-4b62-bfea-8fc0044af025",
   "metadata": {},
   "source": [
    "<br>\n",
    "\n",
    "## 1.3 对象和面向对象编程\n",
    "\n",
    "本书讨论到的数据结构都被实现为对象。JavaScript 提供了多种方式来创建和使用对象。本\n",
    "节将要展示的这些技术，在本书用于创建对象，并用于创建和使用对象中的方法和属性。\n",
    "\n",
    "对象通过如下方式创建：定义包含属性和方法声明的构造函数，并在构造函数后紧跟方法\n",
    "的定义。下面是一个检查银行账户对象的构造函数：\n",
    "\n",
    "```javascript\n",
    "function Checking(amount) {\n",
    "    this.balance = amount; // 属性\n",
    "    this.deposit = deposit; // 方法\n",
    "    this.withdraw = withdraw; // 方法\n",
    "    this.toString = toString; // 方法\n",
    "}\n",
    "```\n",
    "\n",
    "this 关键字用来将方法和属性绑定到一个对象的实例上。下面我们看看对于前面声明过的\n",
    "方法是如何定义的：\n",
    "\n",
    "```javascript\n",
    "function deposit(amount) {\n",
    "    this.balance += amount;\n",
    "}\n",
    "\n",
    "function withdraw(amount) {\n",
    "    if (amount <= this.balance) {\n",
    "        this.balance -= amount;\n",
    "    }\n",
    "    if (amount > this.balance) {\n",
    "        print(\"Insufficient funds\");\n",
    "    }\n",
    "}\n",
    "\n",
    "function toString() {\n",
    "    return \"Balance: \" + this.balance;\n",
    "}\n",
    "```\n",
    "\n",
    "这里，我们又一次使用 this 关键字和 balance 属性，以便让 JavaScript 解释器知道我们引\n",
    "用的是哪个对象的 balance 属性。\n",
    "\n",
    "例 1-12 给出了 Checking 对象的完整定义和测试代码。"
   ]
  },
  {
   "cell_type": "code",
   "execution_count": 32,
   "id": "805960b8-a2a5-428d-9eaf-a0de0b66d90b",
   "metadata": {},
   "outputs": [
    {
     "name": "stdout",
     "output_type": "stream",
     "text": [
      "Balance: 1500\n",
      "Balance: 750\n",
      "Insufficient funds\n",
      "Balance: 750\n"
     ]
    }
   ],
   "source": [
    "// 例 1-12 定义和使用 Checking 对象\n",
    "function Checking(amount) {\n",
    "    this.balance = amount;\n",
    "    this.deposit = deposit;\n",
    "    this.withdraw = withdraw;\n",
    "    this.toString = toString;\n",
    "}\n",
    "\n",
    "function deposit(amount) {\n",
    "    this.balance += amount;\n",
    "}\n",
    "\n",
    "function withdraw(amount) {\n",
    "    if (amount <= this.balance) {\n",
    "        this.balance -= amount;\n",
    "    }\n",
    "    if (amount > this.balance) {\n",
    "        console.log(\"Insufficient funds\");\n",
    "    }\n",
    "}\n",
    "\n",
    "function toString() {\n",
    "    return \"Balance: \" + this.balance;\n",
    "}\n",
    "\n",
    "var account = new Checking(500);\n",
    "account.deposit(1000);\n",
    "console.log(account.toString()); //Balance: 1500\n",
    "account.withdraw(750);\n",
    "console.log(account.toString()); // 余额：750\n",
    "account.withdraw(800); // 显示 \" 余额不足 \"\n",
    "console.log(account.toString()); // 余额：750"
   ]
  },
  {
   "cell_type": "markdown",
   "id": "66a33a42-f51b-4e59-84e5-789c27d5ddf7",
   "metadata": {},
   "source": [
    "<br>\n",
    "\n",
    "## 1.4 小结\n",
    "\n",
    "本章概述了本书剩余部分使用 JavaScript 的方式。很多习惯 C 风格编程语言（比如 C++ 和\n",
    "Java）的程序员形成了统一的编码风格，我们尽量遵循这一风格。当然，JavaScript 中也有\n",
    "很多约定并不遵循其他语言的一贯做法（比如声明和使用变量），这些我们都会在使用时\n",
    "指出，并且教给读者如何正确地使用这门语言。我们同时沿袭了很多使用 JavaScript 编程\n",
    "的最佳实践，这些实践来自 John Resig、Douglas Crockford 等 JavaScript 专家。编写出让人\n",
    "容易阅读的代码和编写出让计算机能正确执行的代码同等重要，作为负责任的程序员，必\n",
    "须将这一点牢记在心。"
   ]
  }
 ],
 "metadata": {
  "kernelspec": {
   "display_name": "JavaScript (Node.js)",
   "language": "javascript",
   "name": "javascript"
  },
  "language_info": {
   "file_extension": ".js",
   "mimetype": "application/javascript",
   "name": "javascript",
   "version": "18.16.1"
  }
 },
 "nbformat": 4,
 "nbformat_minor": 5
}
