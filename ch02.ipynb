{
 "cells": [
  {
   "cell_type": "markdown",
   "id": "10d1d86e-3cef-4d01-be9d-60b0bd8757b5",
   "metadata": {},
   "source": [
    "# 第 2 章 数组\n",
    "\n",
    "数组是计算机编程世界里最常见的数据结构。任何一种编程语言都包含数组，只是形式上\n",
    "略有不同罢了。数组是编程语言中的内建类型，通常效率很高，可以满足不同需求的数据\n",
    "存储。本章将探索 JavaScript 中数组的工作原理，以及它的使用场合。"
   ]
  },
  {
   "cell_type": "markdown",
   "id": "08bfddac-856e-42a6-95e8-902cdf3c8e6a",
   "metadata": {},
   "source": [
    "<br>\n",
    "\n",
    "## 2.1 JavaScript中对数组的定义\n",
    "\n",
    "数组的标准定义是：一个存储元素的线性集合（collection），元素可以通过索引来任意存\n",
    "取，索引通常是数字，用来计算元素之间存储位置的偏移量。几乎所有的编程语言都有类\n",
    "似的数据结构。然而 JavaScript 的数组却略有不同。\n",
    "\n",
    "JavaScript 中的数组是一种特殊的对象，用来表示偏移量的索引是该对象的属性，索引可\n",
    "能是整数。然而，这些数字索引在内部被转换为字符串类型，这是因为 JavaScript 对象中\n",
    "的属性名必须是字符串。数组在 JavaScript 中只是一种特殊的对象，所以效率上不如其他\n",
    "语言中的数组高。\n",
    "\n",
    "JavaScript 中的数组，严格来说应该称作对象，是特殊的 JavaScript 对象，在内部被归类为数\n",
    "组。由于 Array 在 JavaScript 中被当作对象，因此它有许多属性和方法可以在编程时使用。"
   ]
  },
  {
   "cell_type": "markdown",
   "id": "acbf8cad-997c-45a3-84fe-3a9136c93edd",
   "metadata": {},
   "source": [
    "<br>\n",
    "\n",
    "## 2.2 使用数组\n",
    "\n",
    "JavaScript 中的数组非常灵活。单是创建数组和存取元素的方法就有好几种，也可以通过\n",
    "不同方式对数组进行查找和排序。JavaScript 1.5 还提供了一些函数，让程序员在处理数组\n",
    "时可以使用函数式编程技巧。接下来几节将为大家展示这些技术。"
   ]
  },
  {
   "cell_type": "markdown",
   "id": "e825dca6-c058-4415-92a3-ff78e6b1ae05",
   "metadata": {},
   "source": [
    "<br>\n",
    "\n",
    "### 2.2.1 创建数组\n",
    "\n",
    "最简单的方式是通过 `[]` 操作符声明一个数组变量："
   ]
  },
  {
   "cell_type": "code",
   "execution_count": 1,
   "id": "cedcce9e-d5d7-4a8a-807f-3b2ea0d87f51",
   "metadata": {},
   "outputs": [],
   "source": [
    "var numbers = [];"
   ]
  },
  {
   "cell_type": "markdown",
   "id": "e81b3213-ad60-44a9-a9fc-e7003c9a3890",
   "metadata": {},
   "source": [
    "<br>\n",
    "\n",
    "使用这种方式创建数组，你将得到一个长度为 0 的空数组。可以通过调用内建的 `length` 属\n",
    "性来验证这一点："
   ]
  },
  {
   "cell_type": "code",
   "execution_count": 2,
   "id": "f7300488-649f-4b14-b7e7-4772c7620e29",
   "metadata": {},
   "outputs": [
    {
     "name": "stdout",
     "output_type": "stream",
     "text": [
      "0\n"
     ]
    }
   ],
   "source": [
    "console.log(numbers.length); // 显示 0"
   ]
  },
  {
   "cell_type": "markdown",
   "id": "71d1dfeb-cc5e-424c-8b5d-7aa2aaaeb28d",
   "metadata": {},
   "source": [
    "<br>\n",
    "\n",
    "另一种方式是在声明数组变量时，直接在 `[]` 操作符内放入一组元素："
   ]
  },
  {
   "cell_type": "code",
   "execution_count": 3,
   "id": "6599bf12-49cf-48b1-a030-0ed8139f7af6",
   "metadata": {},
   "outputs": [
    {
     "name": "stdout",
     "output_type": "stream",
     "text": [
      "5\n"
     ]
    }
   ],
   "source": [
    "var numbers = [1,2,3,4,5];\n",
    "console.log(numbers.length); // 显示 5"
   ]
  },
  {
   "cell_type": "markdown",
   "id": "db7b1831-4440-481a-a554-2c592c1a9eb3",
   "metadata": {},
   "source": [
    "<br>\n",
    "\n",
    "还可以调用 Array 的构造函数创建数组："
   ]
  },
  {
   "cell_type": "code",
   "execution_count": 4,
   "id": "1fa2972b-3ea6-4301-a656-9312d3b384ef",
   "metadata": {},
   "outputs": [
    {
     "name": "stdout",
     "output_type": "stream",
     "text": [
      "0\n"
     ]
    }
   ],
   "source": [
    "var numbers = new Array();\n",
    "console.log(numbers.length); // 显示 0"
   ]
  },
  {
   "cell_type": "markdown",
   "id": "7e10d575-5722-4826-96b5-97dc76f1c9af",
   "metadata": {},
   "source": [
    "<br>\n",
    "\n",
    "同样，可以为构造函数传入一组元素作为数组的初始值："
   ]
  },
  {
   "cell_type": "code",
   "execution_count": 5,
   "id": "55410697-4fbf-4d18-ada0-8116c2795c91",
   "metadata": {},
   "outputs": [
    {
     "name": "stdout",
     "output_type": "stream",
     "text": [
      "5\n"
     ]
    }
   ],
   "source": [
    "var numbers = new Array(1,2,3,4,5);\n",
    "console.log(numbers.length); // 显示 5"
   ]
  },
  {
   "cell_type": "markdown",
   "id": "02285adf-c362-46c8-84f8-f02d9e5e48bf",
   "metadata": {},
   "source": [
    "<br>\n",
    "\n",
    "在脚本语言里很常见的一个特性是，数组中的元素不必是同一种数据类型，这一点和很多\n",
    "编程语言不同，如下所示："
   ]
  },
  {
   "cell_type": "code",
   "execution_count": 6,
   "id": "3048ab8a-7c3c-4de9-8206-0c0021befe1c",
   "metadata": {},
   "outputs": [],
   "source": [
    "var objects = [1, \"Joe\", true, null];"
   ]
  },
  {
   "cell_type": "markdown",
   "id": "0413199e-0fbd-4af5-ae47-94968c1e8d60",
   "metadata": {},
   "source": [
    "<br>\n",
    "    \n",
    "可以调用 `Array.isArray()` 来判断一个对象是否是数组，如下所示："
   ]
  },
  {
   "cell_type": "code",
   "execution_count": 7,
   "id": "a82367ab-3a73-4e63-9683-977d402e310d",
   "metadata": {},
   "outputs": [
    {
     "name": "stdout",
     "output_type": "stream",
     "text": [
      "false\n",
      "true\n"
     ]
    }
   ],
   "source": [
    "var numbers = 3;\n",
    "var arr = [7,4,1776];\n",
    "console.log(Array.isArray(numbers)); // 显示 false\n",
    "console.log(Array.isArray(arr)); // 显示 true"
   ]
  },
  {
   "cell_type": "markdown",
   "id": "1ec89804-0fc9-4427-bbee-88ade3c14f2f",
   "metadata": {},
   "source": [
    "<br>\n",
    "\n",
    "本节我们讨论了创建数组的几种方式。哪种方式最好？大多数 JavaScript 专家推荐使用 `[]`\n",
    "操作符，和使用 Array 的构造函数相比，这种方式被认为效率更高（具体参见 O’Reilly 出\n",
    "版的 `JavaScript: The Definitive Guide` 和 `JavaScript: The Good Parts` 这两本书）。"
   ]
  },
  {
   "cell_type": "markdown",
   "id": "87a83051-13b0-4864-b018-d9aa8f528e89",
   "metadata": {},
   "source": [
    "<br>\n",
    "\n",
    "### 2.2.2 读写数组\n",
    "\n",
    "在一条赋值语句中，可以使用 `[]` 操作符将数据赋给数组，比如下面的循环，将 1~100 的\n",
    "数字赋给一个数组："
   ]
  },
  {
   "cell_type": "code",
   "execution_count": 8,
   "id": "dfcd7413-c71b-4cce-81a5-0ed2c2c4db59",
   "metadata": {},
   "outputs": [
    {
     "data": {
      "text/plain": [
       "100"
      ]
     },
     "execution_count": 8,
     "metadata": {},
     "output_type": "execute_result"
    }
   ],
   "source": [
    "var nums = [];\n",
    "for (var i = 0; i < 100; ++i) {\n",
    "    nums[i] = i+1;\n",
    "}"
   ]
  },
  {
   "cell_type": "markdown",
   "id": "fcc7347f-d061-405a-a195-2fbce6412fa6",
   "metadata": {},
   "source": [
    "<br>\n",
    "\n",
    "还可以使用 `[]` 操作符读取数组中的元素，如下所示："
   ]
  },
  {
   "cell_type": "code",
   "execution_count": 9,
   "id": "c64704bb-aa07-4907-81e2-96c2bca31ea0",
   "metadata": {},
   "outputs": [
    {
     "name": "stdout",
     "output_type": "stream",
     "text": [
      "15\n"
     ]
    }
   ],
   "source": [
    "var numbers = [1,2,3,4,5];\n",
    "var sum = numbers[0] + numbers[1] + numbers[2] + numbers[3] + numbers[4];\n",
    "console.log(sum); // 显示 15"
   ]
  },
  {
   "cell_type": "markdown",
   "id": "d9b8072b-2a2e-4993-aee6-05c7897c181e",
   "metadata": {},
   "source": [
    "<br>\n",
    "\n",
    "如果要依次读取数组中的所有元素，使用 `for` 循环无疑会更简单："
   ]
  },
  {
   "cell_type": "code",
   "execution_count": 10,
   "id": "cfa31ad2-0b5e-41aa-a48c-6454ea2c8922",
   "metadata": {},
   "outputs": [
    {
     "name": "stdout",
     "output_type": "stream",
     "text": [
      "53\n"
     ]
    }
   ],
   "source": [
    "var numbers = [1,2,3,5,8,13,21];\n",
    "var sum = 0;\n",
    "for (var i = 0; i < numbers.length; ++i) {\n",
    "    sum += numbers[i];\n",
    "}\n",
    "console.log(sum); // 显示 53"
   ]
  },
  {
   "cell_type": "markdown",
   "id": "50d316ed-f2cd-426b-a9ff-fa2c4444aef9",
   "metadata": {},
   "source": [
    "<br>\n",
    "\n",
    "注意，这里使用数组的 `length` 属性来控制循环次数，而不是直接使用数字。JavaScript 中\n",
    "的数组也是对象，数组的长度可以任意增长，超出其创建时指定的长度。`length` 属性反映\n",
    "的是当前数组中元素的个数，使用它，可以确保循环遍历了数组中的所有元素。"
   ]
  },
  {
   "cell_type": "markdown",
   "id": "84c7c8bb-5341-4eda-8e12-a74315320ddb",
   "metadata": {},
   "source": [
    "<br>\n",
    "\n",
    "### 2.2.3 由字符串生成数组\n",
    "\n",
    "调用字符串对象的 `split()` 方法也可以生成数组。该方法通过一些常见的分隔符，比如分\n",
    "隔单词的空格，将一个字符串分成几部分，并将每部分作为一个元素保存于一个新建的数组中。\n",
    "\n",
    "下面的这一小段程序演示了 `split()` 方法的工作原理："
   ]
  },
  {
   "cell_type": "code",
   "execution_count": 11,
   "id": "628d53ad-ee66-4039-8bd2-d1e9d05cb4cb",
   "metadata": {},
   "outputs": [
    {
     "name": "stdout",
     "output_type": "stream",
     "text": [
      "word 0: the\n",
      "word 1: quick\n",
      "word 2: brown\n",
      "word 3: fox\n",
      "word 4: jumped\n",
      "word 5: over\n",
      "word 6: the\n",
      "word 7: lazy\n",
      "word 8: dog\n"
     ]
    }
   ],
   "source": [
    "var sentence = \"the quick brown fox jumped over the lazy dog\";\n",
    "var words = sentence.split(\" \");\n",
    "for (var i = 0; i < words.length; ++i) {\n",
    "    console.log(\"word \" + i + \": \" + words[i]);\n",
    "}"
   ]
  },
  {
   "cell_type": "markdown",
   "id": "24b6373b-1d3c-4044-ac58-e7ee1442cebc",
   "metadata": {},
   "source": [
    "<br>\n",
    "\n",
    "### 2.2.4 对数组的整体性操作\n",
    "\n",
    "几个操作是将数组作为一个整体进行的。首先，可以将一个数组赋给另外一个数组："
   ]
  },
  {
   "cell_type": "code",
   "execution_count": 12,
   "id": "a8ef0595-9e52-4916-8457-80d800bb042a",
   "metadata": {},
   "outputs": [
    {
     "data": {
      "text/plain": [
       "10"
      ]
     },
     "execution_count": 12,
     "metadata": {},
     "output_type": "execute_result"
    }
   ],
   "source": [
    "var nums = [];\n",
    "for (var i = 0; i < 10; ++i) {\n",
    "    nums[i] = i+1;\n",
    "}\n",
    "var samenums = nums;"
   ]
  },
  {
   "cell_type": "markdown",
   "id": "648067a8-1be7-4e2f-b6ad-1088eb23c751",
   "metadata": {},
   "source": [
    "<br>\n",
    "\n",
    "但是，当把一个数组赋给另外一个数组时，只是为被赋值的数组增加了一个新的引用。当\n",
    "你通过原引用修改了数组的值，另外一个引用也会感知到这个变化。下面的代码展示了这\n",
    "种情况："
   ]
  },
  {
   "cell_type": "code",
   "execution_count": 13,
   "id": "dbf99662-19f5-46d2-bba8-03e423286839",
   "metadata": {},
   "outputs": [
    {
     "name": "stdout",
     "output_type": "stream",
     "text": [
      "400\n"
     ]
    }
   ],
   "source": [
    "var nums = [];\n",
    "for (var i = 0; i < 100; ++i) {\n",
    "    nums[i] = i+1;\n",
    "}\n",
    "var samenums = nums;\n",
    "nums[0] = 400;\n",
    "console.log(samenums[0]); // 显示 400"
   ]
  },
  {
   "cell_type": "markdown",
   "id": "0bc68b56-9f5e-4db5-8bbb-765a1e13eff7",
   "metadata": {},
   "source": [
    "<br>\n",
    "\n",
    "这种行为被称为 `浅复制`，新数组依然指向原来的数组。一个更好的方案是使用 `深复制`，将\n",
    "原数组中的每一个元素都复制一份到新数组中。可以写一个深复制函数来做这件事："
   ]
  },
  {
   "cell_type": "code",
   "execution_count": 14,
   "id": "b1ced9c3-91e5-4685-94fb-5ff56ea4a697",
   "metadata": {},
   "outputs": [],
   "source": [
    "function copy(arr1, arr2) {\n",
    "    for (var i = 0; i < arr1.length; ++i) {\n",
    "        arr2[i] = arr1[i];\n",
    "    }\n",
    "}"
   ]
  },
  {
   "cell_type": "markdown",
   "id": "b8cbbe0a-792c-45d2-a70d-f5dccade6e6c",
   "metadata": {},
   "source": [
    "这样，下述代码片段的输出就和我们希望的一样了："
   ]
  },
  {
   "cell_type": "code",
   "execution_count": 15,
   "id": "223694a9-9247-40bf-af89-3dc84fdbdced",
   "metadata": {},
   "outputs": [
    {
     "name": "stdout",
     "output_type": "stream",
     "text": [
      "1\n"
     ]
    }
   ],
   "source": [
    "var nums = [];\n",
    "for (var i = 0; i < 100; ++i) {\n",
    "    nums[i] = i+1;\n",
    "}\n",
    "var samenums = [];\n",
    "copy(nums, samenums);\n",
    "nums[0] = 400;\n",
    "console.log(samenums[0]); // 显示 1"
   ]
  },
  {
   "cell_type": "markdown",
   "id": "61fcfa36-7531-4dee-99ef-e808166fff00",
   "metadata": {},
   "source": [
    "<br>\n",
    "\n",
    "另一个将数组视为整体的操作是 `print()` 函数，用它可以显示数组里的元素。比如："
   ]
  },
  {
   "cell_type": "code",
   "execution_count": 16,
   "id": "d41e74e0-eb2f-4f11-9628-ef94cda41779",
   "metadata": {},
   "outputs": [
    {
     "name": "stdout",
     "output_type": "stream",
     "text": [
      "[ 1, 2, 3, 4, 5 ]\n"
     ]
    }
   ],
   "source": [
    "var nums = [1,2,3,4,5];\n",
    "console.log(nums);"
   ]
  },
  {
   "cell_type": "markdown",
   "id": "cd0e993c-7b06-49a7-9046-ec82ab9ea75e",
   "metadata": {},
   "source": [
    "<br>\n",
    "\n",
    "这样的输出并不一定特别有用，但当你仅仅想看到一个简单的列表时，就可以使用它显示\n",
    "数组里的元素。"
   ]
  },
  {
   "cell_type": "markdown",
   "id": "67ce6347-9a55-4066-acc5-60db1d14d354",
   "metadata": {},
   "source": [
    "<br>\n",
    "\n",
    "## 2.3 存取函数\n",
    "\n",
    "JavaScript 提供了一组用来访问数组元素的函数，叫做`存取函数`，这些函数返回目标数组\n",
    "的某种变体。"
   ]
  },
  {
   "cell_type": "markdown",
   "id": "1ad119ed-0b71-4aa8-8b5a-c8b4213f0565",
   "metadata": {},
   "source": [
    "<br>\n",
    "\n",
    "### 2.3.1 查找元素\n",
    "\n",
    "`indexOf()` 函数是最常用的存取函数之一，用来查找传进来的参数在目标数组中是否存在。\n",
    "如果目标数组包含该参数，就返回该元素在数组中的索引；如果不包含，就返回 -1。下面\n",
    "是一个例子："
   ]
  },
  {
   "cell_type": "code",
   "execution_count": 1,
   "id": "d3247ca0-636f-488d-a768-a68461019fe4",
   "metadata": {},
   "outputs": [
    {
     "name": "stdout",
     "output_type": "stream",
     "text": [
      "Found Cynthia at position 1\n"
     ]
    }
   ],
   "source": [
    "var names = [\"David\", \"Cynthia\", \"Raymond\", \"Clayton\", \"Jennifer\"];\n",
    "var name = \"Cynthia\";\n",
    "var position = names.indexOf(name);\n",
    "if (position >= 0) {\n",
    "    console.log(\"Found \" + name + \" at position \" + position);\n",
    "} else {\n",
    "    console.log(name + \" not found in array.\");\n",
    "}"
   ]
  },
  {
   "cell_type": "markdown",
   "id": "00ce8276-3672-4a2a-9697-22a79f8d02f8",
   "metadata": {},
   "source": [
    "<br>\n",
    "\n",
    "如果数组中包含多个相同的元素，`indexOf()` 函数总是返回第一个与参数相同的元素的索\n",
    "引。有另外一个功能与之类似的函数：`lastIndexOf()`，该函数返回相同元素中最后一个元\n",
    "素的索引，如果没找到相同元素，则返回 `-1`。下面是一个例子："
   ]
  },
  {
   "cell_type": "code",
   "execution_count": 2,
   "id": "99699fbc-9106-418f-afd1-2b9730db5109",
   "metadata": {},
   "outputs": [
    {
     "name": "stdout",
     "output_type": "stream",
     "text": [
      "First found Mike at position 1\n",
      "Last found Mike at position 5\n"
     ]
    }
   ],
   "source": [
    "var names = [\"David\", \"Mike\", \"Cynthia\", \"Raymond\", \"Clayton\", \"Mike\", \"Jennifer\"];\n",
    "var name = \"Mike\";\n",
    "var firstPos = names.indexOf(name);\n",
    "console.log(\"First found \" + name + \" at position \" + firstPos);\n",
    "var lastPos = names.lastIndexOf(name);\n",
    "console.log(\"Last found \" + name + \" at position \" + lastPos);"
   ]
  },
  {
   "cell_type": "markdown",
   "id": "e41d26d4-59b5-46ce-9d82-5f94567ab369",
   "metadata": {},
   "source": [
    "<br>\n",
    "\n",
    "### 2.3.2 数组的字符串表示\n",
    "\n",
    "有两个方法可以将数组转化为字符串：`join()` 和 `toString()`。这两个方法都返回一个包含\n",
    "数组所有元素的字符串，各元素之间用逗号分隔开。下面是一些例子："
   ]
  },
  {
   "cell_type": "code",
   "execution_count": 3,
   "id": "9da8ad40-04cd-4478-a980-5eb97b5e18ba",
   "metadata": {},
   "outputs": [
    {
     "name": "stdout",
     "output_type": "stream",
     "text": [
      "David,Cynthia,Raymond,Clayton,Mike,Jennifer\n",
      "David,Cynthia,Raymond,Clayton,Mike,Jennifer\n"
     ]
    }
   ],
   "source": [
    "var names = [\"David\", \"Cynthia\", \"Raymond\", \"Clayton\", \"Mike\", \"Jennifer\"];\n",
    "var namestr = names.join();\n",
    "console.log(namestr); // David,Cynthia,Raymond,Clayton,Mike,Jennifer\n",
    "namestr = names.toString();\n",
    "console.log(namestr); // David,Cynthia,Raymond,Clayton,Mike,Jennifer"
   ]
  },
  {
   "cell_type": "markdown",
   "id": "2d73595b-603b-43a4-b242-8f7093200d7e",
   "metadata": {},
   "source": [
    "<br>\n",
    "\n",
    "事实上，当直接对一个数组使用 `print()` 函数时，系统会自动调用那个数组的 `toString()`\n",
    "方法："
   ]
  },
  {
   "cell_type": "code",
   "execution_count": 4,
   "id": "daa4e602-b5c9-45a4-b883-2820d59761ac",
   "metadata": {},
   "outputs": [
    {
     "name": "stdout",
     "output_type": "stream",
     "text": [
      "[ 'David', 'Cynthia', 'Raymond', 'Clayton', 'Mike', 'Jennifer' ]\n"
     ]
    }
   ],
   "source": [
    "console.log(names); // David,Cynthia,Raymond,Clayton,Mike,Jennifer"
   ]
  },
  {
   "cell_type": "markdown",
   "id": "d7148933-e20d-484c-8567-115315f6bb38",
   "metadata": {},
   "source": [
    "<br>\n",
    "\n",
    "### 2.3.3 由已有数组创建新数组\n",
    "\n",
    "`concat()` 和 `splice()` 方法允许通过已有数组创建新数组。`concat` 方法可以合并多个数组\n",
    "创建一个新数组，`splice()` 方法截取一个数组的子集创建一个新数组。\n",
    "\n",
    "我们先来看看 `concat()` 方法的工作原理。该方法的发起者是一个数组，参数是另一个数\n",
    "组。作为参数的数组，其中的所有元素都被连接到调用 `concat()` 方法的数组后面。下面的\n",
    "程序展示了 `concat()` 方法的工作原理："
   ]
  },
  {
   "cell_type": "code",
   "execution_count": 14,
   "id": "16dae190-ba3f-42c4-9823-b2b4310d41d9",
   "metadata": {},
   "outputs": [
    {
     "name": "stdout",
     "output_type": "stream",
     "text": [
      "[\n",
      "  'Mike',     'Clayton',\n",
      "  'Terrill',  'Danny',\n",
      "  'Jennifer', 'Raymond',\n",
      "  'Cynthia',  'Bryan'\n",
      "]\n",
      "[\n",
      "  'Raymond', 'Cynthia',\n",
      "  'Bryan',   'Mike',\n",
      "  'Clayton', 'Terrill',\n",
      "  'Danny',   'Jennifer'\n",
      "]\n"
     ]
    }
   ],
   "source": [
    "var cisDept = [\"Mike\", \"Clayton\", \"Terrill\", \"Danny\", \"Jennifer\"];\n",
    "var dmpDept = [\"Raymond\", \"Cynthia\", \"Bryan\"];\n",
    "var itDiv = cisDept.concat(dmpDept);\n",
    "console.log(itDiv);\n",
    "itDiv = dmpDept.concat(cisDept);\n",
    "console.log(itDiv);"
   ]
  },
  {
   "cell_type": "markdown",
   "id": "944d8909-73b9-4804-8aff-b4096201dad5",
   "metadata": {},
   "source": [
    "<br>\n",
    "\n",
    "第一行首先输出 cis 数组里的元素，第二行首先输出 dmp 数组里的元素。\n",
    "\n",
    "`splice()` 方法从现有数组里截取一个新数组。该方法的第一个参数是截取的起始索引，第\n",
    "二个参数是截取的长度。下面的程序展示了 `splice()` 方法的工作原理："
   ]
  },
  {
   "cell_type": "code",
   "execution_count": 16,
   "id": "c447c906-e91e-4460-8ae5-182da86e734e",
   "metadata": {},
   "outputs": [
    {
     "name": "stdout",
     "output_type": "stream",
     "text": [
      "[ 'Raymond', 'Cynthia', 'Danny' ]\n",
      "[ 'Mike', 'Clayton', 'Terrill', 'Jennifer' ]\n"
     ]
    }
   ],
   "source": [
    "var itDiv = [\"Mike\",\"Clayton\",\"Terrill\",\"Raymond\",\"Cynthia\",\"Danny\",\"Jennifer\"];\n",
    "var dmpDept = itDiv.splice(3,3);\n",
    "var cisDept = itDiv;\n",
    "console.log(dmpDept); // Raymond,Cynthia,Danny\n",
    "console.log(cisDept); // Mike,Clayton,Terrill,Jennifer"
   ]
  },
  {
   "cell_type": "markdown",
   "id": "3eecb1d7-d267-469d-abad-791ec196e399",
   "metadata": {},
   "source": [
    "<br>\n",
    "\n",
    "`splice()` 方法还有其他用法，比如为一个数组增加或移除元素，具体请参见 Mozilla\n",
    "Developer Network 页面。"
   ]
  },
  {
   "cell_type": "markdown",
   "id": "592185cb-05e6-4bc7-a2f2-ac93300b0fac",
   "metadata": {},
   "source": [
    "<br>\n",
    "\n",
    "## 2.4 可变函数\n",
    "\n",
    "JavaScript 拥有一组可变函数，使用它们，可以不必引用数组中的某个元素，就能改变数组\n",
    "内容。这些函数常常化繁为简，让困难的事情变得容易，就像下面我们将要看到的那样。"
   ]
  },
  {
   "cell_type": "markdown",
   "id": "4471909a-e296-4761-bbc6-ef60153bb57f",
   "metadata": {},
   "source": [
    "<br>\n",
    "\n",
    "### 2.4.1 为数组添加元素\n",
    "\n",
    "有两个方法可以为数组添加元素：`push()` 和 `unshift()`。`push()` 方法会将一个元素添加到\n",
    "数组末尾："
   ]
  },
  {
   "cell_type": "code",
   "execution_count": 17,
   "id": "632426fb-abc8-465b-843a-f05c08f5da53",
   "metadata": {},
   "outputs": [
    {
     "name": "stdout",
     "output_type": "stream",
     "text": [
      "[ 1, 2, 3, 4, 5 ]\n",
      "[ 1, 2, 3, 4, 5, 6 ]\n"
     ]
    }
   ],
   "source": [
    "var nums = [1,2,3,4,5];\n",
    "console.log(nums); // 1,2,3,4,5\n",
    "nums.push(6);\n",
    "console.log(nums); // 1,2,3,4,5,6"
   ]
  },
  {
   "cell_type": "markdown",
   "id": "3daf7c29-e3a0-4dad-9893-0e960a8d5326",
   "metadata": {},
   "source": [
    "<br>\n",
    "\n",
    "也可以使用数组的 `length` 属性为数组添加元素，但 `push()` 方法看起来更直观："
   ]
  },
  {
   "cell_type": "code",
   "execution_count": 18,
   "id": "1aaa329e-8346-4d76-b08d-327734233313",
   "metadata": {},
   "outputs": [
    {
     "name": "stdout",
     "output_type": "stream",
     "text": [
      "[ 1, 2, 3, 4, 5 ]\n",
      "[ 1, 2, 3, 4, 5, 6 ]\n"
     ]
    }
   ],
   "source": [
    "var nums = [1,2,3,4,5];\n",
    "console.log(nums); // 1,2,3,4,5\n",
    "nums[nums.length] = 6;\n",
    "console.log(nums); // 1,2,3,4,5,6"
   ]
  },
  {
   "cell_type": "markdown",
   "id": "9bd87873-d783-485f-ab10-719c41cf74bb",
   "metadata": {},
   "source": [
    "<br>\n",
    "\n",
    "和在数组的末尾添加元素比起来，在数组的开头添加元素更难。如果不利用数组提供的可\n",
    "变函数，则新的元素添加进来后，需要把后面的每个元素都相应地向后移一个位置。下面\n",
    "的代码展示了这一过程："
   ]
  },
  {
   "cell_type": "code",
   "execution_count": 19,
   "id": "739d40ce-b263-4bb7-9942-cba98a909097",
   "metadata": {},
   "outputs": [
    {
     "name": "stdout",
     "output_type": "stream",
     "text": [
      "[ 1, 2, 3, 4, 5 ]\n"
     ]
    }
   ],
   "source": [
    "var nums = [2,3,4,5];\n",
    "var newnum = 1;\n",
    "var N = nums.length;\n",
    "for (var i = N; i >= 0; --i) {\n",
    "    nums[i] = nums[i-1];\n",
    "}\n",
    "nums[0] = newnum;\n",
    "console.log(nums); // 1,2,3,4,5"
   ]
  },
  {
   "cell_type": "markdown",
   "id": "6f486bfc-84f1-4051-a985-734bb75054fe",
   "metadata": {},
   "source": [
    "<br>\n",
    "\n",
    "随着数组中存储的元素越来越多，上述代码将会变得越来越低效。\n",
    "\n",
    "`unshift()` 方法可以将元素添加在数组的开头，下述代码展示了该方法的用法："
   ]
  },
  {
   "cell_type": "code",
   "execution_count": 20,
   "id": "28f61876-f940-4c87-8197-c63b6d6127c5",
   "metadata": {},
   "outputs": [
    {
     "name": "stdout",
     "output_type": "stream",
     "text": [
      "[ 2, 3, 4, 5 ]\n",
      "[ 1, 2, 3, 4, 5 ]\n",
      "[ 1, 1, 2, 3, 4, 5 ]\n"
     ]
    }
   ],
   "source": [
    "var nums = [2,3,4,5];\n",
    "console.log(nums); // 2,3,4,5\n",
    "var newnum = 1;\n",
    "nums.unshift(newnum);\n",
    "console.log(nums); // 1,2,3,4,5\n",
    "nums = [3,4,5];\n",
    "nums.unshift(newnum,1,2);\n",
    "console.log(nums); // 1,2,3,4,5"
   ]
  },
  {
   "cell_type": "markdown",
   "id": "a6b148e6-d081-4385-9cc0-db398dd0ddeb",
   "metadata": {},
   "source": [
    "<br>\n",
    "\n",
    "第二次出现的 `unshift()` 方法展示了可以通过一次调用，为数组添加多个元素。"
   ]
  },
  {
   "cell_type": "markdown",
   "id": "76b314d0-ec91-48e8-9224-fa0891f4bea6",
   "metadata": {},
   "source": [
    "<br>\n",
    "\n",
    "### 2.4.2 从数组中删除元素\n",
    "\n",
    "使用 `pop()` 方法可以删除数组末尾的元素："
   ]
  },
  {
   "cell_type": "code",
   "execution_count": 21,
   "id": "6cc83dd9-00ce-4022-b56f-b0ca5e122aa0",
   "metadata": {},
   "outputs": [
    {
     "name": "stdout",
     "output_type": "stream",
     "text": [
      "[ 1, 2, 3, 4, 5 ]\n"
     ]
    }
   ],
   "source": [
    "var nums = [1,2,3,4,5,9];\n",
    "nums.pop();\n",
    "console.log(nums); // 1,2,3,4,5"
   ]
  },
  {
   "cell_type": "markdown",
   "id": "156bae58-9158-4e44-8f02-38d556591e9b",
   "metadata": {},
   "source": [
    "<br>\n",
    "\n",
    "如果没有可变函数，从数组中删除第一个元素需要将后续元素各自向前移动一个位置，和\n",
    "在数组开头添加一个元素一样低效："
   ]
  },
  {
   "cell_type": "code",
   "execution_count": 22,
   "id": "26a37bbd-71fa-49af-b182-4a792b5aeed6",
   "metadata": {},
   "outputs": [
    {
     "name": "stdout",
     "output_type": "stream",
     "text": [
      "[ 9, 1, 2, 3, 4, 5 ]\n",
      "[ 1, 2, 3, 4, 5, undefined ]\n"
     ]
    }
   ],
   "source": [
    "var nums = [9,1,2,3,4,5];\n",
    "console.log(nums);\n",
    "for (var i = 0; i < nums.length; ++i) {\n",
    "    nums[i] = nums[i+1];\n",
    "}\n",
    "console.log(nums); // 1,2,3,4,5,"
   ]
  },
  {
   "cell_type": "markdown",
   "id": "23722efd-81f8-4ade-bba8-ffa3a096655c",
   "metadata": {},
   "source": [
    "<br>\n",
    "\n",
    "除了要将后续元素前移一位，还多出了一个元素。当打印出数组中的元素时，会发现最后\n",
    "多出一个逗号。\n",
    "\n",
    "`shift()` 方法可以删除数组的第一个元素，下述代码展示了该方法的用法："
   ]
  },
  {
   "cell_type": "code",
   "execution_count": 23,
   "id": "be8a5f63-b799-4dcf-8d63-08f8d1d430a8",
   "metadata": {},
   "outputs": [
    {
     "name": "stdout",
     "output_type": "stream",
     "text": [
      "[ 1, 2, 3, 4, 5 ]\n"
     ]
    }
   ],
   "source": [
    "var nums = [9,1,2,3,4,5];\n",
    "nums.shift();\n",
    "console.log(nums); // 1,2,3,4,5"
   ]
  },
  {
   "cell_type": "markdown",
   "id": "6d6aa3da-6dbb-4f2f-af61-4ac0e47881bd",
   "metadata": {},
   "source": [
    "<br>\n",
    "\n",
    "这回数组末尾那个多余的逗号消失了。`pop()` 和 `shift()` 方法都将删掉的元素作为方法的\n",
    "返回值返回，因此可以使用一个变量来保存删除的元素："
   ]
  },
  {
   "cell_type": "code",
   "execution_count": 24,
   "id": "f9840805-7624-49c0-bb8b-c3ee98d05e7b",
   "metadata": {},
   "outputs": [
    {
     "name": "stdout",
     "output_type": "stream",
     "text": [
      "[ 1, 2, 3, 4, 5, 6 ]\n"
     ]
    }
   ],
   "source": [
    "var nums = [6,1,2,3,4,5];\n",
    "var first = nums.shift(); // first gets the value 9\n",
    "nums.push(first);\n",
    "console.log(nums); // 1,2,3,4,5,6"
   ]
  },
  {
   "cell_type": "markdown",
   "id": "8445b6b5-b817-4175-b49f-fbc472e00208",
   "metadata": {},
   "source": [
    "<br>\n",
    "\n",
    "### 2.4.3 从数组中间位置添加和删除元素\n",
    "\n",
    "删除数组中的第一个元素和在数组开头添加一个元素存在同样的问题——两种操作都需要将\n",
    "数组中的剩余元素向前或向后移，然而 `splice()` 方法可以帮助我们执行其中任何一种操作。\n",
    "\n",
    "使用 `splice()` 方法为数组添加元素，需提供如下参数：\n",
    "\n",
    "* 起始索引（也就是你希望开始添加元素的地方）；\n",
    "* 需要删除的元素个数（添加元素时该参数设为 0）；\n",
    "* 想要添加进数组的元素。\n",
    "\n",
    "看一个简单的例子。下面的程序在数组中间插入元素："
   ]
  },
  {
   "cell_type": "code",
   "execution_count": 25,
   "id": "ba70d602-cd43-4348-8fbb-d1db1a12625b",
   "metadata": {},
   "outputs": [
    {
     "name": "stdout",
     "output_type": "stream",
     "text": [
      "[ 1, 2, 3, [ 4, 5, 6 ], 7, 8, 9 ]\n"
     ]
    }
   ],
   "source": [
    "var nums = [1,2,3,7,8,9];\n",
    "var newElements = [4,5,6];\n",
    "nums.splice(3,0,newElements);\n",
    "console.log(nums); // 1,2,3,4,5,6,7,8,9"
   ]
  },
  {
   "cell_type": "markdown",
   "id": "2505e310-1c7c-455a-89dd-f2482ebe41e2",
   "metadata": {},
   "source": [
    "**Notice:** 这里和书上不一样。"
   ]
  },
  {
   "cell_type": "markdown",
   "id": "33c6abf3-ddf0-4849-85c0-ac3fd4321826",
   "metadata": {},
   "source": [
    "<br>\n",
    "\n",
    "要插入数组的元素不必组织成一个数组，它可以是任意的元素序列，比如："
   ]
  },
  {
   "cell_type": "code",
   "execution_count": 26,
   "id": "7e5e4157-dc38-4a95-8154-631ee5beec3e",
   "metadata": {},
   "outputs": [
    {
     "name": "stdout",
     "output_type": "stream",
     "text": [
      "[\n",
      "  1, 2, 3, 4, 5,\n",
      "  6, 7, 8, 9\n",
      "]\n"
     ]
    }
   ],
   "source": [
    "var nums = [1,2,3,7,8,9];\n",
    "nums.splice(3,0,4,5,6);\n",
    "console.log(nums);"
   ]
  },
  {
   "cell_type": "markdown",
   "id": "e2b4a8ff-cda5-4184-a8cf-69b21991cf2f",
   "metadata": {},
   "source": [
    "<br>\n",
    "\n",
    "在上面的例子中，参数 4、5、6 就是我们想插入数组 nums 的元素序列。\n",
    "\n",
    "下面是使用 `splice()` 方法从数组中删除元素的例子："
   ]
  },
  {
   "cell_type": "code",
   "execution_count": 27,
   "id": "253cb03a-01ce-4d53-99c1-b8face56076d",
   "metadata": {},
   "outputs": [
    {
     "name": "stdout",
     "output_type": "stream",
     "text": [
      "[ 1, 2, 3, 4, 5 ]\n"
     ]
    }
   ],
   "source": [
    "var nums = [1,2,3,100,200,300,400,4,5];\n",
    "nums.splice(3,4);\n",
    "console.log(nums); // 1,2,3,4,5"
   ]
  },
  {
   "cell_type": "markdown",
   "id": "a65c4769-7764-41b7-8da2-0e2e8123dd4c",
   "metadata": {},
   "source": [
    "<br>\n",
    "\n",
    "### 2.4.4 为数组排序\n",
    "\n",
    "剩下的两个可变方法是为数组排序。第一个方法是 `reverse()`，该方法将数组中元素的顺\n",
    "序进行翻转。下面这个例子展示了该如何使用该方法："
   ]
  },
  {
   "cell_type": "code",
   "execution_count": 28,
   "id": "a8a87889-e75b-49c7-8473-9adbf291494e",
   "metadata": {},
   "outputs": [
    {
     "name": "stdout",
     "output_type": "stream",
     "text": [
      "[ 5, 4, 3, 2, 1 ]\n"
     ]
    }
   ],
   "source": [
    "var nums = [1,2,3,4,5];\n",
    "nums.reverse();\n",
    "console.log(nums); // 5,4,3,2,1"
   ]
  },
  {
   "cell_type": "markdown",
   "id": "3f0d49f9-41e0-4289-8b27-0c58b5153d2f",
   "metadata": {},
   "source": [
    "<br>\n",
    "\n",
    "对数组进行排序是经常会遇到的需求，如果元素是字符串类型，那么数组的可变方法\n",
    "`sort()` 就非常好使："
   ]
  },
  {
   "cell_type": "code",
   "execution_count": 29,
   "id": "969e9dcd-1e93-4b98-88f6-4e4984d5f523",
   "metadata": {},
   "outputs": [
    {
     "name": "stdout",
     "output_type": "stream",
     "text": [
      "[ 'Bryan', 'Clayton', 'Cynthia', 'David', 'Mike', 'Raymond' ]\n"
     ]
    }
   ],
   "source": [
    "var names = [\"David\",\"Mike\",\"Cynthia\",\"Clayton\",\"Bryan\",\"Raymond\"];\n",
    "names.sort();\n",
    "console.log(names); // Bryan,Clayton,Cynthia,David,Mike,Raymond"
   ]
  },
  {
   "cell_type": "markdown",
   "id": "555da716-02d6-46a8-ab72-adf7199da028",
   "metadata": {},
   "source": [
    "<br>\n",
    "\n",
    "但是如果数组元素是数字类型，`sort()` 方法的排序结果就不能让人满意了："
   ]
  },
  {
   "cell_type": "code",
   "execution_count": 30,
   "id": "fcf2b437-1337-4680-a1cc-1fac979beec3",
   "metadata": {},
   "outputs": [
    {
     "name": "stdout",
     "output_type": "stream",
     "text": [
      "[ 1, 100, 2, 200, 3, 4 ]\n"
     ]
    }
   ],
   "source": [
    "var nums = [3,1,2,100,4,200];\n",
    "nums.sort();\n",
    "console.log(nums); // 1,100,2,200,3,4"
   ]
  },
  {
   "cell_type": "markdown",
   "id": "dfe44912-dd69-4311-90dc-6b53962b9e3e",
   "metadata": {},
   "source": [
    "<br>\n",
    "\n",
    "`sort()` 方法是按照字典顺序对元素进行排序的，因此它假定元素都是字符串类型，在上一\n",
    "个例子中，即使元素是数字类型，也被认为是字符串类型。为了让 `sort()` 方法也能排序数\n",
    "字类型的元素，可以在调用方法时传入一个大小比较函数，排序时，`sort()` 方法将会根据\n",
    "该函数比较数组中两个元素的大小，从而决定整个数组的顺序。\n",
    "\n",
    "对于数字类型，该函数可以是一个简单的相减操作，从一个数字中减去另外一个数字。如\n",
    "果结果为负，那么被减数小于减数；如果结果为 0，那么被减数与减数相等；如果结果为\n",
    "正，那么被减数大于减数。\n",
    "\n",
    "将这些搞清楚之后，传入一个大小比较函数，再来看看前面的例子："
   ]
  },
  {
   "cell_type": "code",
   "execution_count": 31,
   "id": "3a235350-b57e-48c6-baf3-903830b981cb",
   "metadata": {},
   "outputs": [
    {
     "name": "stdout",
     "output_type": "stream",
     "text": [
      "[ 1, 2, 3, 4, 100, 200 ]\n"
     ]
    }
   ],
   "source": [
    "function compare(num1, num2) {\n",
    "    return num1 - num2;\n",
    "}\n",
    "var nums = [3,1,2,100,4,200];\n",
    "nums.sort(compare);\n",
    "console.log(nums); // 1,2,3,4,100,200"
   ]
  },
  {
   "cell_type": "markdown",
   "id": "f42f8dec-3d87-4fd0-9fd8-a5bdc458fd68",
   "metadata": {},
   "source": [
    "<br>\n",
    "\n",
    "`sort()` 函数使用了 `compare()` 函数对数组按照数字大小进行排序，而不是按照字典顺序。"
   ]
  },
  {
   "cell_type": "markdown",
   "id": "890062f4-4d2b-4d52-8b9d-e4e141bfeb52",
   "metadata": {},
   "source": [
    "<br>\n",
    "\n",
    "## 2.5 迭代器方法\n",
    "\n",
    "最后一组方法是**迭代器**方法。这些方法对数组中的每个元素应用一个函数，可以返回一个\n",
    "值、一组值或者一个新数组。"
   ]
  },
  {
   "cell_type": "markdown",
   "id": "774d0306-fd07-464a-8a12-d943c99b4c95",
   "metadata": {},
   "source": [
    "<br>\n",
    "\n",
    "### 2.5.1 不生成新数组的迭代器方法\n",
    "\n",
    "我们要讨论的第一组迭代器方法不产生任何新数组，相反，它们要么对于数组中的每个元\n",
    "素执行某种操作，要么返回一个值。\n",
    "\n",
    "这组中的第一个方法是 `forEach()`，该方法接受一个函数作为参数，对数组中的每个元素\n",
    "使用该函数。下面这个例子展示了如何使用该方法："
   ]
  },
  {
   "cell_type": "code",
   "execution_count": 32,
   "id": "91b5d7ae-f577-41e3-a8b4-16d850d048f5",
   "metadata": {},
   "outputs": [
    {
     "name": "stdout",
     "output_type": "stream",
     "text": [
      "1 1\n",
      "2 4\n",
      "3 9\n",
      "4 16\n",
      "5 25\n",
      "6 36\n",
      "7 49\n",
      "8 64\n",
      "9 81\n",
      "10 100\n"
     ]
    }
   ],
   "source": [
    "function square(num) {\n",
    "    console.log(num, num * num);\n",
    "}\n",
    "var nums = [1,2,3,4,5,6,7,8,9,10];\n",
    "nums.forEach(square);"
   ]
  },
  {
   "cell_type": "markdown",
   "id": "342d9344-71a2-46af-b6f4-c2cfb4a71391",
   "metadata": {},
   "source": [
    "<br>\n",
    "\n",
    "另一个迭代器方法是 `every()`，该方法接受一个返回值为布尔类型的函数，对数组中的每\n",
    "个元素使用该函数。如果对于所有的元素，该函数均返回 `true`，则该方法返回 `true`。下面\n",
    "是一个例子："
   ]
  },
  {
   "cell_type": "code",
   "execution_count": 35,
   "id": "8a10d14c-3aca-407e-9246-e292ed955f00",
   "metadata": {},
   "outputs": [
    {
     "name": "stdout",
     "output_type": "stream",
     "text": [
      "all numbers are even\n",
      "not all numbers are even\n"
     ]
    }
   ],
   "source": [
    "function isEven(num) {\n",
    "    return num % 2 == 0;\n",
    "}\n",
    "var nums = [2,4,6,8,10];\n",
    "var even = nums.every(isEven);\n",
    "if (even) {\n",
    "    console.log(\"all numbers are even\");\n",
    "} else {\n",
    "    console.log(\"not all numbers are even\");\n",
    "}\n",
    "\n",
    "var nums2 = [2,4,6,7,8,10];\n",
    "var even2 = nums2.every(isEven);\n",
    "if (even2) {\n",
    "    console.log(\"all numbers are even\");\n",
    "} else {\n",
    "    console.log(\"not all numbers are even\");\n",
    "}"
   ]
  },
  {
   "cell_type": "markdown",
   "id": "4da8c035-13b9-4fb8-a709-1f20d5a04bbc",
   "metadata": {},
   "source": [
    "<br>\n",
    "\n",
    "`some()` 方法也接受一个返回值为布尔类型的函数，只要有一个元素使得该函数返回 `true`，\n",
    "该方法就返回 `true`。比如："
   ]
  },
  {
   "cell_type": "code",
   "execution_count": 36,
   "id": "a9ebe118-0d28-4c71-8969-3013408701f0",
   "metadata": {},
   "outputs": [
    {
     "name": "stdout",
     "output_type": "stream",
     "text": [
      "some numbers are even\n",
      "no numbers are even\n"
     ]
    }
   ],
   "source": [
    "function isEven(num) {\n",
    "    return num % 2 == 0;\n",
    "}\n",
    "var nums = [1,2,3,4,5,6,7,8,9,10];\n",
    "var someEven = nums.some(isEven);\n",
    "if (someEven) {\n",
    "    console.log(\"some numbers are even\");\n",
    "}\n",
    "else {\n",
    "    console.log(\"no numbers are even\");\n",
    "}\n",
    "\n",
    "nums = [1,3,5,7,9];\n",
    "someEven = nums.some(isEven);\n",
    "if (someEven) {\n",
    "    console.log(\"some numbers are even\");\n",
    "}\n",
    "else {\n",
    "    console.log(\"no numbers are even\");\n",
    "}"
   ]
  },
  {
   "cell_type": "markdown",
   "id": "8158c088-c8ec-4265-b5dc-909a6c243eea",
   "metadata": {},
   "source": [
    "<br>\n",
    "\n",
    "`reduce()` 方法接受一个函数，返回一个值。该方法会从一个累加值开始，不断对累加值和\n",
    "数组中的后续元素调用该函数，直到数组中的最后一个元素，最后返回得到的累加值。下\n",
    "面这个例子展示了如何使用 `reduce()` 方法为数组中的元素求和："
   ]
  },
  {
   "cell_type": "code",
   "execution_count": 37,
   "id": "f91ef2a1-349b-47cc-80e9-a25bebb92ee3",
   "metadata": {},
   "outputs": [
    {
     "name": "stdout",
     "output_type": "stream",
     "text": [
      "55\n"
     ]
    }
   ],
   "source": [
    "function add(runningTotal, currentValue) {\n",
    "    return runningTotal + currentValue;\n",
    "}\n",
    "var nums = [1,2,3,4,5,6,7,8,9,10];\n",
    "var sum = nums.reduce(add);\n",
    "console.log(sum); // 显示 55"
   ]
  },
  {
   "cell_type": "markdown",
   "id": "3199a5e0-926e-422b-a48c-b29feb01ed0c",
   "metadata": {},
   "source": [
    "<br>\n",
    "\n",
    "`reduce()` 方法和 `add()` 函数一起，从左到右，依次对数组中的元素求和，其执行过程如下\n",
    "所示：\n",
    "\n",
    "```output\n",
    "add(1,2) -> 3\n",
    "add(3,3) -> 6\n",
    "add(6,4) -> 10\n",
    "add(10,5) -> 15\n",
    "add(15,6) -> 21\n",
    "add(21,7) -> 28\n",
    "add(28,8) -> 36\n",
    "add(36,9) -> 45\n",
    "add(45,10) -> 55\n",
    "```\n",
    "\n",
    "`reduce()` 方法也可以用来将数组中的元素连接成一个长的字符串："
   ]
  },
  {
   "cell_type": "code",
   "execution_count": 38,
   "id": "2d3b1b55-46a5-45aa-82a7-b9a735b69287",
   "metadata": {},
   "outputs": [
    {
     "name": "stdout",
     "output_type": "stream",
     "text": [
      "the quick brown fox \n"
     ]
    }
   ],
   "source": [
    "function concat(accumulatedString, item) {\n",
    "    return accumulatedString + item;\n",
    "}\n",
    "var words = [\"the \", \"quick \",\"brown \", \"fox \"];\n",
    "var sentence = words.reduce(concat);\n",
    "console.log(sentence); // 显示 \"the quick brown fox\""
   ]
  },
  {
   "cell_type": "markdown",
   "id": "d86be3ee-3ec5-4ef5-80a3-fc1b329dc7f4",
   "metadata": {},
   "source": [
    "<br>\n",
    "\n",
    "JavaScript 还提供了 `reduceRight()` 方法，和 `reduce()` 方法不同，它是从右到左执行。下面\n",
    "的程序使用 `reduceRight()` 方法将数组中的元素进行翻转："
   ]
  },
  {
   "cell_type": "code",
   "execution_count": 39,
   "id": "e560a272-58b7-41c9-bf61-0b9299e23a47",
   "metadata": {},
   "outputs": [
    {
     "name": "stdout",
     "output_type": "stream",
     "text": [
      "fox brown quick the \n"
     ]
    }
   ],
   "source": [
    "function concat(accumulatedString, item) {\n",
    "    return accumulatedString + item;\n",
    "}\n",
    "var words = [\"the \", \"quick \",\"brown \", \"fox \"];\n",
    "var sentence = words.reduceRight(concat);\n",
    "console.log(sentence); // 显示 \"fox brown quick the\""
   ]
  }
 ],
 "metadata": {
  "kernelspec": {
   "display_name": "JavaScript (Node.js)",
   "language": "javascript",
   "name": "javascript"
  },
  "language_info": {
   "file_extension": ".js",
   "mimetype": "application/javascript",
   "name": "javascript",
   "version": "18.16.1"
  }
 },
 "nbformat": 4,
 "nbformat_minor": 5
}
